{
  "nbformat": 4,
  "nbformat_minor": 0,
  "metadata": {
    "colab": {
      "provenance": []
    },
    "kernelspec": {
      "name": "python3",
      "display_name": "Python 3"
    },
    "language_info": {
      "name": "python"
    }
  },
  "cells": [
    {
      "cell_type": "code",
      "execution_count": null,
      "metadata": {
        "id": "xFSteL27zJNR"
      },
      "outputs": [],
      "source": []
    },
    {
      "cell_type": "markdown",
      "source": [
        "### Neural Network"
      ],
      "metadata": {
        "id": "4M-lnOg1DLqB"
      }
    },
    {
      "cell_type": "code",
      "source": [
        "import torch\n"
      ],
      "metadata": {
        "id": "mVxkqTM7DRAF"
      },
      "execution_count": 1,
      "outputs": []
    },
    {
      "cell_type": "code",
      "source": [
        "# Pick a manual seed for randomizations\n",
        "torch.manual_seed(97)"
      ],
      "metadata": {
        "colab": {
          "base_uri": "https://localhost:8080/"
        },
        "id": "LUS3awTcDlc6",
        "outputId": "bb1dfa76-b351-4909-aebb-c301ea23bf6f"
      },
      "execution_count": 2,
      "outputs": [
        {
          "output_type": "execute_result",
          "data": {
            "text/plain": [
              "<torch._C.Generator at 0x7bc32663fe10>"
            ]
          },
          "metadata": {},
          "execution_count": 2
        }
      ]
    },
    {
      "cell_type": "code",
      "source": [
        "# Create 4 random inputs and weights\n",
        "input = torch.rand(4)\n",
        "weight = torch.rand(4)\n",
        "bias = 1\n",
        "\n",
        "print(f\"Input: {input}\\nWeight: {weight}\\nBias: {bias}\")"
      ],
      "metadata": {
        "colab": {
          "base_uri": "https://localhost:8080/"
        },
        "id": "cHzggiQ7Dr0B",
        "outputId": "2aadccdf-5521-45f6-bd05-cc34a1b87a7a"
      },
      "execution_count": 3,
      "outputs": [
        {
          "output_type": "stream",
          "name": "stdout",
          "text": [
            "Input: tensor([0.2577, 0.3639, 0.3804, 0.9233])\n",
            "Weight: tensor([0.4714, 0.8464, 0.8527, 0.7252])\n",
            "Bias: 1\n"
          ]
        }
      ]
    },
    {
      "cell_type": "code",
      "source": [
        "# Neural Network\n",
        "output = torch.matmul(input,weight) + bias\n",
        "output"
      ],
      "metadata": {
        "colab": {
          "base_uri": "https://localhost:8080/"
        },
        "id": "C-xMN5PoE9-K",
        "outputId": "ae7eef83-3cf3-4e0b-b315-44e31209067e"
      },
      "execution_count": 4,
      "outputs": [
        {
          "output_type": "execute_result",
          "data": {
            "text/plain": [
              "tensor(2.4235)"
            ]
          },
          "metadata": {},
          "execution_count": 4
        }
      ]
    },
    {
      "cell_type": "markdown",
      "source": [
        "Layers of Neurons"
      ],
      "metadata": {
        "id": "cTi2cupEGVcT"
      }
    },
    {
      "cell_type": "code",
      "source": [
        "input2 = torch.rand(4)\n",
        "weight2 = torch.rand(size=(5, 4))\n",
        "bias = torch.rand(5)\n",
        "\n",
        "print(f\"Input: {input2}\\nWeights: {weight2}\\nBias: {bias}\")"
      ],
      "metadata": {
        "colab": {
          "base_uri": "https://localhost:8080/"
        },
        "id": "NIgugF3JGZxm",
        "outputId": "1e423a8a-ccc0-43a4-e895-fcc4536fbd33"
      },
      "execution_count": 5,
      "outputs": [
        {
          "output_type": "stream",
          "name": "stdout",
          "text": [
            "Input: tensor([0.4314, 0.0768, 0.5296, 0.4009])\n",
            "Weights: tensor([[0.9418, 0.9037, 0.8629, 0.4687],\n",
            "        [0.3966, 0.5043, 0.3567, 0.1461],\n",
            "        [0.3744, 0.9531, 0.5082, 0.3340],\n",
            "        [0.9745, 0.2346, 0.9503, 0.7555],\n",
            "        [0.7243, 0.7625, 0.8721, 0.5346]])\n",
            "Bias: tensor([0.1671, 0.8678, 0.7120, 0.0442, 0.2787])\n"
          ]
        }
      ]
    },
    {
      "cell_type": "code",
      "source": [
        "output2 = torch.matmul(input2, weight2.T) + bias\n",
        "\n",
        "output2"
      ],
      "metadata": {
        "colab": {
          "base_uri": "https://localhost:8080/"
        },
        "id": "XtmDnOZQGgeu",
        "outputId": "03194478-483f-42b2-a14f-f3a43d53f596"
      },
      "execution_count": 6,
      "outputs": [
        {
          "output_type": "execute_result",
          "data": {
            "text/plain": [
              "tensor([1.2877, 1.3251, 1.3498, 1.2888, 1.3260])"
            ]
          },
          "metadata": {},
          "execution_count": 6
        }
      ]
    },
    {
      "cell_type": "code",
      "source": [
        "input2 = output2\n",
        "output_weight = torch.rand(size = (2, 5))\n",
        "bias2 = torch.rand(2)\n",
        "\n",
        "print(f\"Input2: {input2}\\nOutput_weight: {output_weight}\\nBia2s: {bias2}\")"
      ],
      "metadata": {
        "colab": {
          "base_uri": "https://localhost:8080/"
        },
        "id": "jqARjKgKHOEw",
        "outputId": "5eafe294-bf36-4abf-b926-6ffb3bcc7e69"
      },
      "execution_count": 7,
      "outputs": [
        {
          "output_type": "stream",
          "name": "stdout",
          "text": [
            "Input2: tensor([1.2877, 1.3251, 1.3498, 1.2888, 1.3260])\n",
            "Output_weight: tensor([[0.5170, 0.1564, 0.1337, 0.9721, 0.5814],\n",
            "        [0.9412, 0.3896, 0.2498, 0.9929, 0.9158]])\n",
            "Bia2s: tensor([0.8110, 0.6961])\n"
          ]
        }
      ]
    },
    {
      "cell_type": "code",
      "source": [
        "final_output = torch.matmul(input2, output_weight.T) + bias2\n",
        "\n",
        "final_output"
      ],
      "metadata": {
        "colab": {
          "base_uri": "https://localhost:8080/"
        },
        "id": "En6r_1yzIdbg",
        "outputId": "b160b0bc-c000-4823-8e4f-cd6b00a616d6"
      },
      "execution_count": 8,
      "outputs": [
        {
          "output_type": "execute_result",
          "data": {
            "text/plain": [
              "tensor([3.8883, 5.2557])"
            ]
          },
          "metadata": {},
          "execution_count": 8
        }
      ]
    },
    {
      "cell_type": "markdown",
      "source": [
        "Layer of Neurons & Batch of Data"
      ],
      "metadata": {
        "id": "AyU17aRnI5WZ"
      }
    },
    {
      "cell_type": "code",
      "source": [
        "inputs = torch.rand((32, 4))\n",
        "weights = torch.rand((5, 4))\n",
        "bias = torch.rand(5)"
      ],
      "metadata": {
        "id": "MaACNjj-I73z"
      },
      "execution_count": 9,
      "outputs": []
    },
    {
      "cell_type": "code",
      "source": [
        "outputs = torch.matmul(inputs, weights.T) + bias\n",
        "\n",
        "outputs"
      ],
      "metadata": {
        "colab": {
          "base_uri": "https://localhost:8080/"
        },
        "id": "9Z876iryI_UI",
        "outputId": "98a65bd0-92a8-4b1a-cc73-b6fc420084d9"
      },
      "execution_count": 10,
      "outputs": [
        {
          "output_type": "execute_result",
          "data": {
            "text/plain": [
              "tensor([[1.7063, 0.9444, 2.8326, 2.3315, 0.8173],\n",
              "        [1.7084, 0.9454, 2.1867, 1.5419, 1.0726],\n",
              "        [1.4992, 0.8818, 2.1660, 1.3802, 0.8668],\n",
              "        [1.9911, 0.9975, 2.6862, 2.0995, 1.1253],\n",
              "        [1.5840, 1.1677, 2.5092, 2.0125, 1.0670],\n",
              "        [2.1512, 1.2496, 3.2733, 2.5391, 1.2336],\n",
              "        [1.3789, 0.7303, 1.7929, 1.5527, 0.8100],\n",
              "        [1.8323, 0.8846, 2.5328, 1.6989, 0.9589],\n",
              "        [1.7949, 0.9671, 2.6889, 2.1527, 0.9577],\n",
              "        [1.1229, 0.5881, 1.7863, 1.0253, 0.4777],\n",
              "        [2.2367, 1.0232, 2.9841, 2.3062, 1.2021],\n",
              "        [1.7246, 0.9796, 3.0167, 2.3546, 0.7833],\n",
              "        [2.1860, 1.2802, 3.2031, 2.4427, 1.3140],\n",
              "        [1.6009, 0.9176, 2.7479, 1.8492, 0.7357],\n",
              "        [1.3442, 0.6137, 1.9986, 1.4124, 0.5814],\n",
              "        [1.8919, 0.8883, 2.8066, 2.2582, 0.9063],\n",
              "        [1.5048, 0.9475, 2.3493, 1.6472, 0.8618],\n",
              "        [1.7913, 1.0849, 3.0158, 2.3357, 0.9285],\n",
              "        [1.8377, 1.0724, 2.4649, 1.9020, 1.1748],\n",
              "        [1.3483, 0.8894, 2.0133, 1.7364, 0.8465],\n",
              "        [1.8645, 1.0673, 2.8651, 2.5083, 1.0370],\n",
              "        [1.3366, 0.9173, 2.3725, 1.9385, 0.7146],\n",
              "        [1.5327, 0.7733, 2.5296, 1.9349, 0.6518],\n",
              "        [1.7768, 1.1917, 2.6072, 2.0103, 1.1839],\n",
              "        [1.3266, 0.7688, 2.0281, 1.2560, 0.6941],\n",
              "        [1.8803, 0.8638, 2.3198, 1.6321, 1.0645],\n",
              "        [2.0198, 0.8462, 2.7490, 2.0636, 0.9763],\n",
              "        [1.0943, 0.5832, 1.5646, 0.8968, 0.5450],\n",
              "        [1.6402, 0.6490, 2.4220, 1.9036, 0.6590],\n",
              "        [2.1779, 0.8899, 2.7720, 2.0085, 1.1177],\n",
              "        [1.2022, 0.8356, 2.4437, 1.8705, 0.5087],\n",
              "        [1.5684, 0.9739, 2.2166, 1.6512, 0.9901]])"
            ]
          },
          "metadata": {},
          "execution_count": 10
        }
      ]
    },
    {
      "cell_type": "markdown",
      "source": [
        "Adding Layers"
      ],
      "metadata": {
        "id": "emntyoUeJGzD"
      }
    },
    {
      "cell_type": "code",
      "source": [
        "input_1 = torch.rand((32, 4))\n",
        "weight_1 = torch.rand((5, 4))\n",
        "bias_1 = torch.rand(5)"
      ],
      "metadata": {
        "id": "NBWVJSxfJCsR"
      },
      "execution_count": 11,
      "outputs": []
    },
    {
      "cell_type": "code",
      "source": [
        "output_1 = torch.matmul(input_1, weight_1.T) + bias_1"
      ],
      "metadata": {
        "id": "UGwu8fbZJc-D"
      },
      "execution_count": 13,
      "outputs": []
    },
    {
      "cell_type": "code",
      "source": [
        "input_layer_2 = output_1\n",
        "weight_layer_2 = torch.rand(5, 5)\n",
        "bias_2 = torch.rand(5)"
      ],
      "metadata": {
        "id": "miH_XCxqJfq8"
      },
      "execution_count": 14,
      "outputs": []
    },
    {
      "cell_type": "code",
      "source": [
        "output_layer_2 = torch.matmul(input_layer_2, weight_layer_2.T) + bias_2"
      ],
      "metadata": {
        "id": "ILoEnbl5JqGH"
      },
      "execution_count": 15,
      "outputs": []
    },
    {
      "cell_type": "code",
      "source": [
        "input_final_layer = output_layer_2\n",
        "weight_final_layer = torch.rand(3, 5)\n",
        "bias_3 = torch.rand(3)"
      ],
      "metadata": {
        "id": "Mb80JdE2JuWL"
      },
      "execution_count": 16,
      "outputs": []
    },
    {
      "cell_type": "code",
      "source": [
        "final_output = torch.matmul(input_final_layer, weight_final_layer.T) + bias_3"
      ],
      "metadata": {
        "id": "Xd-QSxx1Jz1C"
      },
      "execution_count": 17,
      "outputs": []
    },
    {
      "cell_type": "code",
      "source": [
        "final_output"
      ],
      "metadata": {
        "colab": {
          "base_uri": "https://localhost:8080/"
        },
        "id": "EtDoE3llJ2Q8",
        "outputId": "150c56fd-6ab4-4bd8-cc8a-e9890a3b3e8d"
      },
      "execution_count": 18,
      "outputs": [
        {
          "output_type": "execute_result",
          "data": {
            "text/plain": [
              "tensor([[16.9348, 17.3738, 14.2840],\n",
              "        [14.5872, 14.9653, 12.3049],\n",
              "        [13.7741, 14.1166, 11.6208],\n",
              "        [14.7069, 15.0391, 12.4091],\n",
              "        [18.3632, 18.9466, 15.4787],\n",
              "        [12.8884, 13.1559, 10.8784],\n",
              "        [16.4793, 16.9265, 13.8985],\n",
              "        [14.0012, 14.3055, 11.8152],\n",
              "        [15.6345, 16.0809, 13.1843],\n",
              "        [15.8904, 16.3499, 13.3996],\n",
              "        [15.5686, 15.9775, 13.1321],\n",
              "        [17.2162, 17.6989, 14.5178],\n",
              "        [11.8255, 11.9905,  9.9883],\n",
              "        [17.3644, 17.7691, 14.6489],\n",
              "        [17.2079, 17.6952, 14.5106],\n",
              "        [14.6180, 14.8663, 12.3414],\n",
              "        [15.6321, 16.0730, 13.1823],\n",
              "        [14.1127, 14.3784, 11.9122],\n",
              "        [15.6463, 16.0789, 13.1951],\n",
              "        [16.8926, 17.3696, 14.2451],\n",
              "        [16.7080, 17.2499, 14.0836],\n",
              "        [16.3261, 16.7618, 13.7692],\n",
              "        [15.2320, 15.6484, 12.8466],\n",
              "        [12.5237, 12.7386, 10.5742],\n",
              "        [13.1442, 13.3927, 11.0953],\n",
              "        [14.4903, 14.8396, 12.2247],\n",
              "        [15.8239, 16.2335, 13.3473],\n",
              "        [15.9620, 16.4229, 13.4598],\n",
              "        [20.7628, 21.4575, 17.4977],\n",
              "        [20.3634, 21.0482, 17.1610],\n",
              "        [14.3021, 14.6314, 12.0675],\n",
              "        [15.0459, 15.4574, 12.6894]])"
            ]
          },
          "metadata": {},
          "execution_count": 18
        }
      ]
    },
    {
      "cell_type": "markdown",
      "source": [
        " Neural Network with OOP"
      ],
      "metadata": {
        "id": "ah3hogS3J98u"
      }
    },
    {
      "cell_type": "code",
      "source": [
        "class DenseLayer:\n",
        "\n",
        "  def __init__(self, n_inputs, n_neurons):\n",
        "    # Initialize weights and biases\n",
        "    self.weight = 0.01 * torch.rand((n_inputs, n_neurons))\n",
        "    self.bias = torch.zeros(1, n_neurons)\n",
        "\n",
        "  def forward(self, inputs):\n",
        "    # calculate output values from inputs, weights and biases\n",
        "    self.output = torch.matmul(inputs, self.weight) + self.bias"
      ],
      "metadata": {
        "id": "Nu5RmfS8J6Y2"
      },
      "execution_count": 19,
      "outputs": []
    },
    {
      "cell_type": "code",
      "source": [
        "x = torch.rand((2, 4))\n",
        "\n",
        "layer1 = DenseLayer(4, 6)\n",
        "layer2 = DenseLayer(6, 5)\n",
        "output_layer = DenseLayer(5, 2)"
      ],
      "metadata": {
        "id": "bKMpKghYLBYB"
      },
      "execution_count": 20,
      "outputs": []
    },
    {
      "cell_type": "code",
      "source": [
        "layer1.forward(x)\n",
        "layer2.forward(layer1.output)\n",
        "output_layer.forward(layer2.output)"
      ],
      "metadata": {
        "id": "0-G1T0RqLDdy"
      },
      "execution_count": 21,
      "outputs": []
    },
    {
      "cell_type": "code",
      "source": [
        "output_layer.output"
      ],
      "metadata": {
        "colab": {
          "base_uri": "https://localhost:8080/"
        },
        "id": "XbKmgYz0LIQC",
        "outputId": "da2eb9e9-58fe-48fe-e8e0-66f6ea85da93"
      },
      "execution_count": 22,
      "outputs": [
        {
          "output_type": "execute_result",
          "data": {
            "text/plain": [
              "tensor([[4.2998e-06, 6.9072e-06],\n",
              "        [1.0869e-05, 1.7512e-05]])"
            ]
          },
          "metadata": {},
          "execution_count": 22
        }
      ]
    },
    {
      "cell_type": "code",
      "source": [
        "# Assignment\n",
        "\n",
        "\n",
        "# Input layer (5 features)\n",
        "# Hidden layers(3) with each layer containing 16 neurons\n",
        "#  => H1\n",
        "#  => H2\n",
        "#  => H3\n",
        "# output( 5 classes)"
      ],
      "metadata": {
        "id": "Qjv9LOqbLKEx"
      },
      "execution_count": 23,
      "outputs": []
    },
    {
      "cell_type": "code",
      "source": [
        "input_layer = torch.rand((30, 5))"
      ],
      "metadata": {
        "id": "hxw_EFDWNFS4"
      },
      "execution_count": 24,
      "outputs": []
    },
    {
      "cell_type": "code",
      "source": [
        "layer1 = DenseLayer(5, 16)\n",
        "layer2 = DenseLayer(16, 16)\n",
        "layer3 = DenseLayer(16, 16)\n",
        "output_layer = DenseLayer(16, 5)"
      ],
      "metadata": {
        "id": "x4M2ZAQYMT9i"
      },
      "execution_count": 25,
      "outputs": []
    },
    {
      "cell_type": "code",
      "source": [
        "layer1.forward(input_layer)\n",
        "layer2.forward(layer1.output)\n",
        "layer3.forward(layer2.output)\n",
        "output_layer.forward(layer3.output)"
      ],
      "metadata": {
        "id": "vJxittOnNJcl"
      },
      "execution_count": 26,
      "outputs": []
    },
    {
      "cell_type": "code",
      "source": [
        "output_layer.output"
      ],
      "metadata": {
        "colab": {
          "base_uri": "https://localhost:8080/"
        },
        "id": "m9xrY75_N0iV",
        "outputId": "894d411d-e3eb-4cd7-fa70-1d8c36cdc4b5"
      },
      "execution_count": 27,
      "outputs": [
        {
          "output_type": "execute_result",
          "data": {
            "text/plain": [
              "tensor([[2.9114e-06, 2.5782e-06, 3.8230e-06, 4.2621e-06, 3.8495e-06],\n",
              "        [5.4605e-06, 4.8404e-06, 7.1760e-06, 7.9986e-06, 7.2225e-06],\n",
              "        [3.8975e-06, 3.4496e-06, 5.1161e-06, 5.7056e-06, 5.1523e-06],\n",
              "        [5.7859e-06, 5.1219e-06, 7.5996e-06, 8.4709e-06, 7.6480e-06],\n",
              "        [6.3766e-06, 5.6471e-06, 8.3772e-06, 9.3375e-06, 8.4310e-06],\n",
              "        [4.2695e-06, 3.7847e-06, 5.6116e-06, 6.2535e-06, 5.6470e-06],\n",
              "        [4.7514e-06, 4.2047e-06, 6.2427e-06, 6.9593e-06, 6.2808e-06],\n",
              "        [2.3057e-06, 2.0463e-06, 3.0293e-06, 3.3770e-06, 3.0518e-06],\n",
              "        [3.9708e-06, 3.5238e-06, 5.2177e-06, 5.8149e-06, 5.2551e-06],\n",
              "        [7.1668e-06, 6.3495e-06, 9.4167e-06, 1.0497e-05, 9.4779e-06],\n",
              "        [3.6512e-06, 3.2341e-06, 4.7962e-06, 5.3465e-06, 4.8282e-06],\n",
              "        [4.3107e-06, 3.8208e-06, 5.6617e-06, 6.3109e-06, 5.7019e-06],\n",
              "        [4.4277e-06, 3.9245e-06, 5.8200e-06, 6.4843e-06, 5.8555e-06],\n",
              "        [5.0053e-06, 4.4269e-06, 6.5715e-06, 7.3273e-06, 6.6144e-06],\n",
              "        [4.1759e-06, 3.7078e-06, 5.4898e-06, 6.1184e-06, 5.5285e-06],\n",
              "        [4.5667e-06, 4.0436e-06, 5.9956e-06, 6.6860e-06, 6.0380e-06],\n",
              "        [6.5512e-06, 5.8038e-06, 8.6065e-06, 9.5939e-06, 8.6630e-06],\n",
              "        [4.2981e-06, 3.8090e-06, 5.6471e-06, 6.2951e-06, 5.6854e-06],\n",
              "        [5.8165e-06, 5.1560e-06, 7.6434e-06, 8.5197e-06, 7.6946e-06],\n",
              "        [6.2896e-06, 5.5773e-06, 8.2653e-06, 9.2122e-06, 8.3206e-06],\n",
              "        [5.7997e-06, 5.1424e-06, 7.6174e-06, 8.4925e-06, 7.6728e-06],\n",
              "        [5.6673e-06, 5.0204e-06, 7.4468e-06, 8.3011e-06, 7.4941e-06],\n",
              "        [3.6135e-06, 3.2008e-06, 4.7463e-06, 5.2923e-06, 4.7790e-06],\n",
              "        [4.3857e-06, 3.8887e-06, 5.7626e-06, 6.4247e-06, 5.8031e-06],\n",
              "        [5.0268e-06, 4.4483e-06, 6.6027e-06, 7.3597e-06, 6.6440e-06],\n",
              "        [5.5201e-06, 4.8933e-06, 7.2526e-06, 8.0866e-06, 7.3032e-06],\n",
              "        [8.1269e-06, 7.1996e-06, 1.0675e-05, 1.1902e-05, 1.0748e-05],\n",
              "        [4.3975e-06, 3.8908e-06, 5.7753e-06, 6.4392e-06, 5.8122e-06],\n",
              "        [5.5924e-06, 4.9544e-06, 7.3453e-06, 8.1911e-06, 7.3971e-06],\n",
              "        [5.2795e-06, 4.6700e-06, 6.9319e-06, 7.7300e-06, 6.9774e-06]])"
            ]
          },
          "metadata": {},
          "execution_count": 27
        }
      ]
    },
    {
      "cell_type": "markdown",
      "source": [
        "Other method"
      ],
      "metadata": {
        "id": "reoNs24JOEDt"
      }
    },
    {
      "cell_type": "code",
      "source": [
        "# Let's approach the assignment using an alternative method.\n",
        "\n",
        "import torch.nn as nn\n",
        "import torch.nn.functional as F\n"
      ],
      "metadata": {
        "id": "h75ASbcXN2_Q"
      },
      "execution_count": 28,
      "outputs": []
    },
    {
      "cell_type": "code",
      "source": [
        "# Create a Model Class that inherits nn.Module\n",
        "class Model(nn.Module):\n",
        "  # Input layer (4 featues) -->\n",
        "  # H1 or Hidden Layer1(number of neurons -->\n",
        "  # H2 or Hidden Layer2(number of neurons -->\n",
        "  # H3 or Hidden Layer3(number of neurons -->\n",
        "  # output(5 class)\n",
        "\n",
        "  def __init__(self,input_features=5,h1=16,h2=16,h3=16,output_features=5):\n",
        "    super().__init__() # inistantiate out nn.Module\n",
        "    self.fc1 = nn.Linear(input_features,h1)\n",
        "    self.fc2 = nn.Linear(h1,h2)\n",
        "    self.fc3 = nn.Linear(h2,h3)\n",
        "    self.out = nn.Linear(h3,output_features)\n",
        "\n",
        "\n",
        "  def forward(self,x):\n",
        "    x = F.relu(self.fc1(x))\n",
        "    x = F.relu(self.fc2(x))\n",
        "    x = F.relu(self.fc3(x))\n",
        "    x = self.out(x)\n",
        "\n",
        "    return x\n"
      ],
      "metadata": {
        "id": "o3Pqgs7MN_zY"
      },
      "execution_count": 29,
      "outputs": []
    },
    {
      "cell_type": "code",
      "source": [
        "x = torch.rand((30, 5))"
      ],
      "metadata": {
        "id": "K3lgdd1dQnI3"
      },
      "execution_count": 30,
      "outputs": []
    },
    {
      "cell_type": "code",
      "source": [
        "# Create an instance of model\n",
        "model = Model()\n",
        "model"
      ],
      "metadata": {
        "colab": {
          "base_uri": "https://localhost:8080/"
        },
        "id": "TzbWKsr1PZ7I",
        "outputId": "0ba797e3-f68d-4115-9ef8-8a185324f714"
      },
      "execution_count": 31,
      "outputs": [
        {
          "output_type": "execute_result",
          "data": {
            "text/plain": [
              "Model(\n",
              "  (fc1): Linear(in_features=5, out_features=16, bias=True)\n",
              "  (fc2): Linear(in_features=16, out_features=16, bias=True)\n",
              "  (fc3): Linear(in_features=16, out_features=16, bias=True)\n",
              "  (out): Linear(in_features=16, out_features=5, bias=True)\n",
              ")"
            ]
          },
          "metadata": {},
          "execution_count": 31
        }
      ]
    },
    {
      "cell_type": "code",
      "source": [
        "model(x)"
      ],
      "metadata": {
        "colab": {
          "base_uri": "https://localhost:8080/"
        },
        "id": "rR_zLLFkRKTD",
        "outputId": "59df99a3-6c00-4723-f545-c1c6a3f45816"
      },
      "execution_count": 32,
      "outputs": [
        {
          "output_type": "execute_result",
          "data": {
            "text/plain": [
              "tensor([[-0.1258,  0.1699,  0.3513, -0.2028, -0.0976],\n",
              "        [-0.1202,  0.1753,  0.3506, -0.2156, -0.0731],\n",
              "        [-0.1328,  0.1604,  0.3250, -0.2086, -0.0732],\n",
              "        [-0.1464,  0.1602,  0.3273, -0.1896, -0.0709],\n",
              "        [-0.1206,  0.1793,  0.3547, -0.2169, -0.0714],\n",
              "        [-0.1323,  0.1653,  0.3235, -0.2126, -0.0741],\n",
              "        [-0.1479,  0.1603,  0.3499, -0.1869, -0.0753],\n",
              "        [-0.1311,  0.1579,  0.3301, -0.2009, -0.0712],\n",
              "        [-0.1390,  0.1652,  0.3375, -0.2006, -0.0693],\n",
              "        [-0.1256,  0.1740,  0.3546, -0.2084, -0.0753],\n",
              "        [-0.1394,  0.1666,  0.3326, -0.1932, -0.0621],\n",
              "        [-0.1295,  0.1691,  0.3417, -0.2045, -0.0657],\n",
              "        [-0.1240,  0.1638,  0.3643, -0.1938, -0.0955],\n",
              "        [-0.1288,  0.1639,  0.3251, -0.2136, -0.0729],\n",
              "        [-0.1152,  0.1841,  0.3542, -0.2234, -0.0682],\n",
              "        [-0.1250,  0.1687,  0.3192, -0.2166, -0.0660],\n",
              "        [-0.1234,  0.1687,  0.3588, -0.2058, -0.0851],\n",
              "        [-0.1229,  0.1647,  0.3410, -0.2080, -0.0766],\n",
              "        [-0.1351,  0.1643,  0.3319, -0.1955, -0.0693],\n",
              "        [-0.1134,  0.1782,  0.3547, -0.2203, -0.0710],\n",
              "        [-0.1234,  0.1673,  0.3477, -0.2044, -0.0677],\n",
              "        [-0.1425,  0.1626,  0.3277, -0.1908, -0.0719],\n",
              "        [-0.1241,  0.1748,  0.3510, -0.2131, -0.0706],\n",
              "        [-0.1395,  0.1615,  0.3535, -0.1908, -0.0804],\n",
              "        [-0.1347,  0.1665,  0.3497, -0.1929, -0.0966],\n",
              "        [-0.1396,  0.1607,  0.3268, -0.1994, -0.0828],\n",
              "        [-0.1164,  0.1742,  0.3554, -0.2090, -0.0871],\n",
              "        [-0.1336,  0.1729,  0.3312, -0.1958, -0.0600],\n",
              "        [-0.1229,  0.1672,  0.3372, -0.2118, -0.0691],\n",
              "        [-0.1233,  0.1807,  0.3515, -0.2194, -0.0642]],\n",
              "       grad_fn=<AddmmBackward0>)"
            ]
          },
          "metadata": {},
          "execution_count": 32
        }
      ]
    },
    {
      "cell_type": "code",
      "source": [],
      "metadata": {
        "id": "Q3r-YXxzRXTz"
      },
      "execution_count": 32,
      "outputs": []
    }
  ]
}
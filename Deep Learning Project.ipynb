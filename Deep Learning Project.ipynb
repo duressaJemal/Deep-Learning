{
 "cells": [
  {
   "cell_type": "markdown",
   "id": "9425d5b0",
   "metadata": {},
   "source": [
    "# Project: Handwritten Digit Recognition"
   ]
  },
  {
   "cell_type": "markdown",
   "id": "d9d5abc5",
   "metadata": {},
   "source": [
    "### Name: Duressa Jemal\n",
    "### Id: UGR/3937/12\n"
   ]
  },
  {
   "cell_type": "markdown",
   "id": "8369b6de",
   "metadata": {},
   "source": [
    "# Handwritten Digit Recognition Project\n",
    "\n",
    "In this project, the aim is to develop a convolutional neural network (CNN) model using PyTorch for handwritten digit recognition from the MNIST dataset.\n",
    "\n",
    "## Overview\n",
    "\n",
    "The MNIST dataset consists of 28x28 grayscale images of handwritten digits (0 to 9) along with corresponding labels. The goal is to build a model that accurately classifies these digits.\n",
    "\n",
    "## Approach\n",
    "\n",
    "1. **Data Loading**: The MNIST dataset is loaded and data loaders are created for training and testing.\n",
    "\n",
    "2. **Model Architecture**: The CNN architecture includes convolutional layers, max-pooling, dropout, and fully connected layers.\n",
    "\n",
    "3. **Training**: The Adam optimizer and cross-entropy loss function are used to train the model on the training dataset.\n",
    "\n",
    "4. **Evaluation**: The trained model's performance is evaluated on the test dataset to measure accuracy and generalization.\n",
    "\n",
    "## Project Structure\n",
    "\n",
    "- **Data Preparation**: Loading and preprocessing MNIST images.\n",
    "- **Model Definition**: Defining the CNN architecture.\n",
    "- **Training**: Optimizing model parameters using the training dataset.\n",
    "- **Evaluation**: Assessing model performance on the test dataset.\n",
    "\n"
   ]
  },
  {
   "cell_type": "markdown",
   "id": "ecd8e717",
   "metadata": {},
   "source": [
    "## Imports"
   ]
  },
  {
   "cell_type": "code",
   "execution_count": 1,
   "id": "93ba1445",
   "metadata": {},
   "outputs": [],
   "source": [
    "import torch\n",
    "import torch.nn as nn\n",
    "import torch.nn.functional as F\n",
    "import torch.optim as optim\n",
    "from torch.utils.data import DataLoader\n",
    "from torchvision import datasets\n",
    "from torchvision.transforms import ToTensor\n"
   ]
  },
  {
   "cell_type": "markdown",
   "id": "3fdffd50",
   "metadata": {},
   "source": [
    "# Loading MNIST Dataset\n",
    "\n",
    "In this section, we load the MNIST dataset using PyTorch's `datasets.MNIST` module.\n"
   ]
  },
  {
   "cell_type": "code",
   "execution_count": 13,
   "id": "38496047",
   "metadata": {},
   "outputs": [],
   "source": [
    "train_data = datasets.MNIST(\n",
    "    root = 'data',\n",
    "    train = True,\n",
    "    transform = ToTensor(),\n",
    "    download = True\n",
    ")\n",
    "\n",
    "test_data = datasets.MNIST(\n",
    "    root = 'data',\n",
    "    train = False,\n",
    "    transform = ToTensor(),\n",
    "    download = True\n",
    ")"
   ]
  },
  {
   "cell_type": "code",
   "execution_count": 3,
   "id": "022d80d4",
   "metadata": {},
   "outputs": [
    {
     "data": {
      "text/plain": [
       "Dataset MNIST\n",
       "    Number of datapoints: 10000\n",
       "    Root location: data\n",
       "    Split: Test\n",
       "    StandardTransform\n",
       "Transform: ToTensor()"
      ]
     },
     "execution_count": 3,
     "metadata": {},
     "output_type": "execute_result"
    }
   ],
   "source": [
    "test_data"
   ]
  },
  {
   "cell_type": "code",
   "execution_count": 4,
   "id": "6f2e470b",
   "metadata": {},
   "outputs": [
    {
     "data": {
      "text/plain": [
       "Dataset MNIST\n",
       "    Number of datapoints: 10000\n",
       "    Root location: data\n",
       "    Split: Test\n",
       "    StandardTransform\n",
       "Transform: ToTensor()"
      ]
     },
     "execution_count": 4,
     "metadata": {},
     "output_type": "execute_result"
    }
   ],
   "source": [
    "test_data"
   ]
  },
  {
   "cell_type": "markdown",
   "id": "4a429097",
   "metadata": {},
   "source": [
    "In this section, we create data loaders for the training and test datasets using PyTorch's `DataLoader` module.\n",
    "\n",
    "### Key Parameters:\n",
    "\n",
    "- `batch_size`: This parameter determines the number of samples in each batch. A smaller batch size might lead to slower convergence, while a larger one might consume more memory.\n",
    "- `shuffle=True`: Setting this parameter to `True` ensures that the data is randomly shuffled before each epoch during training. Shuffling the data helps prevent the model from memorizing the order of samples and encourages better generalization.\n",
    "- `num_workers`: This parameter specifies the number of subprocesses to use for data loading. By default, it's set to 0, meaning that data loading will be done in the main process. However, setting it to a higher value (e.g., 1) can speed up data loading by leveraging multiple CPU cores for parallel processing.\n"
   ]
  },
  {
   "cell_type": "code",
   "execution_count": 5,
   "id": "3b2af596",
   "metadata": {},
   "outputs": [],
   "source": [
    "loaders = {\n",
    "    'train': DataLoader(train_data,\n",
    "                       batch_size = 100,\n",
    "                       shuffle=True,\n",
    "                       num_workers = 1),\n",
    "    'test': DataLoader(test_data,\n",
    "                       batch_size = 100,\n",
    "                       shuffle=True,\n",
    "                       num_workers = 1)\n",
    "}"
   ]
  },
  {
   "cell_type": "code",
   "execution_count": 6,
   "id": "873de631",
   "metadata": {},
   "outputs": [
    {
     "data": {
      "text/plain": [
       "{'train': <torch.utils.data.dataloader.DataLoader at 0x7f006e87adf0>,\n",
       " 'test': <torch.utils.data.dataloader.DataLoader at 0x7f014c538700>}"
      ]
     },
     "execution_count": 6,
     "metadata": {},
     "output_type": "execute_result"
    }
   ],
   "source": [
    "loaders"
   ]
  },
  {
   "cell_type": "markdown",
   "id": "50eb7215",
   "metadata": {},
   "source": [
    "# Convolutional Neural Network (CNN) Definition\n"
   ]
  },
  {
   "cell_type": "code",
   "execution_count": 7,
   "id": "e5319a18",
   "metadata": {},
   "outputs": [],
   "source": [
    "class CNN(nn.Module):\n",
    "    def __init__(self):\n",
    "        super(CNN, self).__init__()\n",
    "        \n",
    "        self.conv1 = nn.Conv2d(1, 10, kernel_size = 5)\n",
    "        self.conv2 = nn.Conv2d(10, 20, kernel_size = 5)\n",
    "        self.conv2_drop = nn.Dropout2d()\n",
    "        self.fc1 = nn.Linear(320, 50)\n",
    "        self.fc2 = nn.Linear(50, 10)\n",
    "        \n",
    "    def forward(self, x):\n",
    "        x = F.relu(F.max_pool2d(self.conv1(x), 2))\n",
    "        x = F.relu(F.max_pool2d(self.conv2_drop(self.conv2(x)), 2))\n",
    "        x = x.view(-1, 320)\n",
    "        x = F.relu(self.fc1(x))\n",
    "        x = F.dropout(x, training=self.training)\n",
    "        x = self.fc2(x)\n",
    "        \n",
    "        return F.softmax(x, dim=1)\n",
    "        \n",
    "        "
   ]
  },
  {
   "cell_type": "markdown",
   "id": "66d27d10",
   "metadata": {},
   "source": [
    "# Training and Evaluation Functions"
   ]
  },
  {
   "cell_type": "code",
   "execution_count": 20,
   "id": "0c04a093",
   "metadata": {},
   "outputs": [],
   "source": [
    "device = torch.device('cude' if torch.cuda.is_available() else 'cpu')\n",
    "\n",
    "model = CNN().to(device)\n",
    "\n",
    "optimizer = optim.Adam(model.parameters(), lr = 0.001)\n",
    "\n",
    "loss_fn = nn.CrossEntropyLoss()\n",
    "\n",
    "def train(epoch):\n",
    "    model.train()\n",
    "    for batch_idx, (data, target) in enumerate(loaders['train']):\n",
    "        data, target = data.to(device), target.to(device)\n",
    "        optimizer.zero_grad()\n",
    "        output = model(data)\n",
    "        loss = loss_fn(output, target)\n",
    "        loss.backward()\n",
    "        optimizer.step()\n",
    "        \n",
    "        \n",
    "\n",
    "def test():\n",
    "    model.eval()\n",
    "    \n",
    "    test_loss = 0\n",
    "    correct = 0\n",
    "    \n",
    "    with torch.no_grad():\n",
    "        for data, target in loaders['test']:\n",
    "            data, target = data.to(device), target.to(device)\n",
    "            output = model(data)\n",
    "            test_loss += loss_fn(output, target).item()\n",
    "            pred = output.argmax(dim=1, keepdim=True)\n",
    "            correct =+ pred.eq(target.view_as(pred)).sum().item()\n",
    "\n",
    "\n",
    "        "
   ]
  },
  {
   "cell_type": "code",
   "execution_count": 21,
   "id": "45fdf28b",
   "metadata": {},
   "outputs": [],
   "source": [
    "for epoch in range(1, 5):\n",
    "    train(epoch)\n",
    "    test()"
   ]
  },
  {
   "cell_type": "code",
   "execution_count": 31,
   "id": "f5308e14",
   "metadata": {},
   "outputs": [
    {
     "name": "stdout",
     "output_type": "stream",
     "text": [
      "Predection: 5\n"
     ]
    },
    {
     "data": {
      "image/png": "[encoded data removed]",
      "text/plain": [
       "<Figure size 432x288 with 1 Axes>"
      ]
     },
     "metadata": {
      "needs_background": "light"
     },
     "output_type": "display_data"
    }
   ],
   "source": [
    "import matplotlib.pyplot as plt\n",
    "\n",
    "model.eval()\n",
    "\n",
    "data, target = test_data[15]\n",
    "\n",
    "data = data.unsqueeze(0).to(device)\n",
    "\n",
    "output = model(data)\n",
    "\n",
    "prediction = output.argmax(dim=1, keepdim=True).item()\n",
    "\n",
    "print(f'Predection: {prediction}')\n",
    "\n",
    "image = data.squeeze(0).squeeze(0).cpu().numpy()\n",
    "\n",
    "plt.imshow(image, cmap='gray')\n",
    "plt.show()\n"
   ]
  },
  {
   "cell_type": "markdown",
   "id": "22816aa8",
   "metadata": {},
   "source": [
    "## Conclusion\n",
    "\n",
    "Handwritten digit recognition is a classic machine learning problem with applications in various fields. The CNN model demonstrates effective digit recognition from the MNIST dataset, showcasing the power of deep learning techniques."
   ]
  }
 ],
 "metadata": {
  "kernelspec": {
   "display_name": "Python 3 (ipykernel)",
   "language": "python",
   "name": "python3"
  },
  "language_info": {
   "codemirror_mode": {
    "name": "ipython",
    "version": 3
   },
   "file_extension": ".py",
   "mimetype": "text/x-python",
   "name": "python",
   "nbconvert_exporter": "python",
   "pygments_lexer": "ipython3",
   "version": "3.8.10"
  }
 },
 "nbformat": 4,
 "nbformat_minor": 5
}

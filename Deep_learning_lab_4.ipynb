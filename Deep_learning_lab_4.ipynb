{
 "cells": [
  {
   "cell_type": "code",
   "execution_count": 6,
   "metadata": {
    "id": "blA5esJtdFVP"
   },
   "outputs": [],
   "source": [
    "import torch"
   ]
  },
  {
   "cell_type": "markdown",
   "metadata": {
    "id": "rurwL-W2PoIN"
   },
   "source": [
    "## Creating Layers"
   ]
  },
  {
   "cell_type": "code",
   "execution_count": 36,
   "metadata": {
    "id": "owY9mN1oPAal"
   },
   "outputs": [],
   "source": [
    "class DenseLayer:\n",
    "  # Layer initialization\n",
    "  def __init__(self, n_inputs, n_neurons):\n",
    "    # Initialize weights and biases\n",
    "    self.weights = 0.01 * torch.rand(n_inputs, n_neurons)\n",
    "    self.biases = torch.zeros((1, n_neurons))\n",
    "\n",
    "  # Forward pass\n",
    "  def forward(self, inputs):\n",
    "    # Calculate output values from inputs, weights and biases\n",
    "    self.output = torch.matmul(inputs, self.weights) + self.biases"
   ]
  },
  {
   "cell_type": "markdown",
   "metadata": {
    "id": "Ajjr0QcUP8tA"
   },
   "source": [
    "## Activation Functions"
   ]
  },
  {
   "cell_type": "markdown",
   "metadata": {
    "id": "-CfScOYgaorz"
   },
   "source": [
    "### ReLU"
   ]
  },
  {
   "cell_type": "code",
   "execution_count": 38,
   "metadata": {
    "id": "6owCQofBP_iL"
   },
   "outputs": [],
   "source": [
    "class Activation_ReLU:\n",
    "  # Forward pass\n",
    "  def forward(self, inputs):\n",
    "    self.output = torch.max(torch.tensor(0),inputs)"
   ]
  },
  {
   "cell_type": "markdown",
   "metadata": {
    "id": "_E-apHeQahmI"
   },
   "source": [
    "### Sigmoid"
   ]
  },
  {
   "cell_type": "code",
   "execution_count": 39,
   "metadata": {
    "id": "nlf-0k4OaffJ"
   },
   "outputs": [],
   "source": [
    "class Activation_Sigmoid:\n",
    "  # Forward pass\n",
    "  def forward(self, inputs):\n",
    "    self.output = 1 / (1 + torch.exp(inputs*-1))"
   ]
  },
  {
   "cell_type": "markdown",
   "metadata": {
    "id": "JQrWxiXBax30"
   },
   "source": [
    "### Softmax"
   ]
  },
  {
   "cell_type": "code",
   "execution_count": 40,
   "metadata": {
    "id": "wF2Lf9ESTOOU"
   },
   "outputs": [],
   "source": [
    "class Activation_Softmax:\n",
    "  # Forward pass\n",
    "  def forward(self, inputs):\n",
    "    # Get unnormalized probabilities\n",
    "    exp_values = torch.exp(inputs - torch.max(inputs, axis=1, keepdim=True).values)\n",
    "    # Normalize them for each sample\n",
    "    probabilities = exp_values / torch.sum(exp_values, axis=1, keepdim=True)\n",
    "    self.output = probabilities"
   ]
  },
  {
   "cell_type": "markdown",
   "metadata": {},
   "source": [
    "### Linear Activation"
   ]
  },
  {
   "cell_type": "code",
   "execution_count": 41,
   "metadata": {},
   "outputs": [],
   "source": [
    "class LinearActivation:\n",
    "    def forward(self, x):\n",
    "        self.output = x"
   ]
  },
  {
   "cell_type": "code",
   "execution_count": 47,
   "metadata": {},
   "outputs": [
    {
     "data": {
      "text/plain": [
       "(tensor([0.1000, 0.5000]), tensor([0.0500, 0.9500]))"
      ]
     },
     "execution_count": 47,
     "metadata": {},
     "output_type": "execute_result"
    }
   ],
   "source": [
    "x = torch.tensor([0.1, 0.5])\n",
    "y = torch.tensor([0.05, 0.95])\n",
    "x, y\n",
    "\n"
   ]
  },
  {
   "cell_type": "markdown",
   "metadata": {},
   "source": [
    "## Use 2 features in the input layer, 1 hidden layer with 4 neurons"
   ]
  },
  {
   "cell_type": "code",
   "execution_count": 48,
   "metadata": {},
   "outputs": [],
   "source": [
    "hidden_layer_1 = DenseLayer(2, 4)"
   ]
  },
  {
   "cell_type": "markdown",
   "metadata": {},
   "source": [
    "### Sigmoid activation in the hidden layer"
   ]
  },
  {
   "cell_type": "code",
   "execution_count": 49,
   "metadata": {},
   "outputs": [],
   "source": [
    "activation1 = Activation_Sigmoid()"
   ]
  },
  {
   "cell_type": "markdown",
   "metadata": {},
   "source": [
    "### An output layer with 2 neurons."
   ]
  },
  {
   "cell_type": "code",
   "execution_count": 50,
   "metadata": {},
   "outputs": [],
   "source": [
    "output_layer = DenseLayer(4, 2)"
   ]
  },
  {
   "cell_type": "markdown",
   "metadata": {},
   "source": [
    "### linear activation in the output layer."
   ]
  },
  {
   "cell_type": "code",
   "execution_count": 51,
   "metadata": {},
   "outputs": [],
   "source": [
    "activation2 = LinearActivation()"
   ]
  },
  {
   "cell_type": "markdown",
   "metadata": {},
   "source": [
    "### Forward Pass"
   ]
  },
  {
   "cell_type": "code",
   "execution_count": 52,
   "metadata": {},
   "outputs": [],
   "source": [
    "def forward_pass(X):\n",
    "    hidden_layer_1.forward(X)\n",
    "    activation1.forward(hidden_layer_1.output)\n",
    "    output_layer.forward(activation1.output)\n",
    "    activation2.forward(output_layer.output)\n",
    "    return activation2.output"
   ]
  },
  {
   "cell_type": "markdown",
   "metadata": {},
   "source": [
    "### Backward propagation\n"
   ]
  },
  {
   "cell_type": "code",
   "execution_count": 53,
   "metadata": {},
   "outputs": [],
   "source": [
    "def back_prop(fp):\n",
    "    lr = torch.tensor(0.01)\n",
    "    back1 = (fp[0][0] - y[0]) * (1 - fp[0][0]) * fp[0][0]\n",
    "    back2 = (fp[0][1] - y[1]) * (1 - fp[0][1]) * fp[0][1]\n",
    "\n",
    "    # Update weights and biases in the output layer\n",
    "    output_layer.weights[0][0] -= lr * back1 * activation1.output[0][0]\n",
    "    output_layer.weights[0][1] -= lr * back1 * activation1.output[0][1]\n",
    "    output_layer.weights[1][0] -= lr * back2 * activation1.output[0][0]\n",
    "    output_layer.weights[1][1] -= lr * back2 * activation1.output[0][1]\n",
    "    output_layer.biases[0][0] -= lr * back1\n",
    "    output_layer.biases[0][1] -= lr * back2\n",
    "    \n",
    "    # Update weights and biases in the hidden layer\n",
    "    for i in range(hidden_layer_1.weights.shape[0]):\n",
    "        for j in range(hidden_layer_1.weights.shape[1]):\n",
    "            hidden_layer_1.weights[i][j] -= lr * (\n",
    "            back1 * output_layer.weights[j][i] * X[i] +\n",
    "            back2 * output_layer.weights[j][i] * X[i]\n",
    "        ) * hidden_layer_1.output[0][j] * (1 - hidden_layer_1.output[0][j])\n",
    "    for j in range(hidden_layer_1.biases.shape[1]):\n",
    "        hidden_layer_1.biases[0][j] -= lr * (\n",
    "        back1 * output_layer.weights[j][0] +\n",
    "        back2 * output_layer.weights[j][1]\n",
    "    ) * hidden_layer_1.output[0][j] * (1 - hidden_layer_1.output[0][j])\n",
    "     "
   ]
  },
  {
   "cell_type": "markdown",
   "metadata": {},
   "source": [
    "### Error Calculation(MSE)"
   ]
  },
  {
   "cell_type": "code",
   "execution_count": 54,
   "metadata": {},
   "outputs": [],
   "source": [
    "def error_calculation(y_true, y_pred):\n",
    "    return torch.mean(0.5*(y_true - y_pred)**2)"
   ]
  },
  {
   "cell_type": "markdown",
   "metadata": {},
   "source": [
    "### Do the Forward and Backward propagation"
   ]
  },
  {
   "cell_type": "code",
   "execution_count": 55,
   "metadata": {},
   "outputs": [
    {
     "name": "stdout",
     "output_type": "stream",
     "text": [
      "Initial loss: tensor(0.2216)\n",
      "Initial prediction: tensor([[0.0129, 0.0093]])\n",
      "Final loss: tensor(9.9967e-09)\n",
      "Final prediction: tensor([[0.0501, 0.9499]])\n",
      "Target value: tensor([0.0500, 0.9500])\n"
     ]
    }
   ],
   "source": [
    "\n",
    "loss = 0.00000001\n",
    "y_pred = forward_pass(X)\n",
    "err = error_calculation(y, y_pred)\n",
    "print(\"Initial loss:\", err)\n",
    "print(\"Initial prediction:\",y_pred)\n",
    "while err > loss:\n",
    "    back_prop(y_pred)\n",
    "    y_pred = forward_pass(x)\n",
    "    err = error_calculation(y, y_pred)\n",
    "print(\"Final loss:\", err)\n",
    "print(\"Final prediction:\",y_pred)\n",
    "print(\"Target value:\",y)\n",
    "     "
   ]
  },
  {
   "cell_type": "code",
   "execution_count": null,
   "metadata": {},
   "outputs": [],
   "source": []
  }
 ],
 "metadata": {
  "colab": {
   "provenance": []
  },
  "kernelspec": {
   "display_name": "Python 3 (ipykernel)",
   "language": "python",
   "name": "python3"
  },
  "language_info": {
   "codemirror_mode": {
    "name": "ipython",
    "version": 3
   },
   "file_extension": ".py",
   "mimetype": "text/x-python",
   "name": "python",
   "nbconvert_exporter": "python",
   "pygments_lexer": "ipython3",
   "version": "3.8.10"
  }
 },
 "nbformat": 4,
 "nbformat_minor": 1
}

{
  "nbformat": 4,
  "nbformat_minor": 0,
  "metadata": {
    "colab": {
      "provenance": []
    },
    "kernelspec": {
      "name": "python3",
      "display_name": "Python 3"
    },
    "language_info": {
      "name": "python"
    }
  },
  "cells": [
    {
      "cell_type": "code",
      "execution_count": 1,
      "metadata": {
        "id": "CeItVSkZZgis"
      },
      "outputs": [],
      "source": [
        "import torch\n"
      ]
    },
    {
      "cell_type": "markdown",
      "source": [
        "### **Activation Functions**"
      ],
      "metadata": {
        "id": "gw72lUdEbPqU"
      }
    },
    {
      "cell_type": "code",
      "source": [
        "def activation_relu(inputs):\n",
        "    \"\"\"ReLU activation: element-wise max(0, x)\"\"\"\n",
        "    return torch.maximum(torch.tensor(0, dtype=inputs.dtype), inputs)\n",
        "\n",
        "def activation_sigmoid(inputs):\n",
        "    \"\"\"Sigmoid activation: 1 / (1 + exp(-x))\"\"\"\n",
        "    return 1 / (1 + torch.exp(-inputs))\n",
        "\n",
        "def activation_softmax(inputs):\n",
        "    \"\"\"Softmax activation: exp(x - max(x)) / sum(exp(x - max(x)))\"\"\"\n",
        "    exp_values = torch.exp(inputs - torch.max(inputs, dim=1, keepdim=True).values)\n",
        "    return exp_values / torch.sum(exp_values, dim=1, keepdim=True)"
      ],
      "metadata": {
        "id": "otfgClanahLg"
      },
      "execution_count": 2,
      "outputs": []
    },
    {
      "cell_type": "markdown",
      "source": [
        "### **Dense Layer**"
      ],
      "metadata": {
        "id": "xUBBEIQ3bfrB"
      }
    },
    {
      "cell_type": "code",
      "source": [
        "class DenseLayer:\n",
        "    def __init__(self, features, neurons, activation_function):\n",
        "        self.weights = torch.rand((features, neurons), requires_grad=True)\n",
        "        self.biases = torch.zeros((1, neurons), requires_grad=True)\n",
        "        self.activation_function = activation_function\n",
        "\n",
        "    def forward(self, inputs):\n",
        "        weighted_sum = torch.matmul(inputs, self.weights) + self.biases\n",
        "        self.output = self.activation_function(weighted_sum)\n",
        "        return self.output"
      ],
      "metadata": {
        "id": "6fLcQ5VqbFb5"
      },
      "execution_count": 3,
      "outputs": []
    },
    {
      "cell_type": "markdown",
      "source": [
        "### **Loss: Categorical Cross Entropy**"
      ],
      "metadata": {
        "id": "ofzOcViVcbHS"
      }
    },
    {
      "cell_type": "code",
      "source": [
        "class Loss_CategoricalCrossentropy:\n",
        "    def forward(self, y_pred, y_true):\n",
        "        y_pred_clipped = torch.clip(y_pred, 1e-7, 1 - 1e-7)\n",
        "        log_likelihoods = -torch.sum(y_true * torch.log(y_pred_clipped))\n",
        "        return log_likelihoods"
      ],
      "metadata": {
        "id": "9BOtKMDKcAG-"
      },
      "execution_count": 5,
      "outputs": []
    },
    {
      "cell_type": "code",
      "source": [
        "# Pick a manual seed for randomizations\n",
        "torch.manual_seed(50)"
      ],
      "metadata": {
        "colab": {
          "base_uri": "https://localhost:8080/"
        },
        "id": "dfBSW__5fPm_",
        "outputId": "7b7b7e65-161d-4c3e-eec3-e3e09d243157"
      },
      "execution_count": 6,
      "outputs": [
        {
          "output_type": "execute_result",
          "data": {
            "text/plain": [
              "<torch._C.Generator at 0x78cd7c79c210>"
            ]
          },
          "metadata": {},
          "execution_count": 6
        }
      ]
    },
    {
      "cell_type": "code",
      "source": [
        "# Input layer (4 features)\n",
        "# Hidden layers(3) with each layer containing 18 neurons\n",
        "#  => H1\n",
        "#  => H2\n",
        "#  => H3\n",
        "# output( 3 classes)"
      ],
      "metadata": {
        "id": "TSlmnnW2cnSw"
      },
      "execution_count": 7,
      "outputs": []
    },
    {
      "cell_type": "markdown",
      "source": [
        "### **Using ReLU for hidden layers**"
      ],
      "metadata": {
        "id": "Cx9BNoXsdxZc"
      }
    },
    {
      "cell_type": "code",
      "source": [
        "# Input data\n",
        "input_data = torch.rand((1, 4), requires_grad=True)\n",
        "\n",
        "# target\n",
        "target = torch.tensor([1, 1, 0], dtype=torch.float32, requires_grad=True)\n",
        "\n",
        "loss_function = Loss_CategoricalCrossentropy()"
      ],
      "metadata": {
        "id": "ES-zAcQAczbZ"
      },
      "execution_count": 8,
      "outputs": []
    },
    {
      "cell_type": "code",
      "source": [
        "# hidden layer\n",
        "layer1 = DenseLayer(4, 18, activation_relu)\n",
        "layer2 = DenseLayer(18, 18, activation_relu)\n",
        "layer3 = DenseLayer(18, 18, activation_relu)\n",
        "\n",
        "# output layer\n",
        "output_layer = DenseLayer(18, 3, activation_softmax)\n",
        "\n",
        "# forward pass\n",
        "layer1.forward(input_data)\n",
        "layer2.forward(layer1.output)\n",
        "layer3.forward(layer2.output)\n",
        "output_layer.forward(layer3.output)\n",
        "\n",
        "# Output after performing forward pass\n",
        "print(\"Output: \",output_layer.output)\n",
        "\n",
        "# loss and accuracy\n",
        "loss = loss_function.forward(output_layer.output, target)\n",
        "accuracy = target == torch.argmax(output_layer.output, dim=1)\n",
        "\n",
        "print(\"Categorical Cross-Entropy Loss:\", loss.item())\n",
        "print(\"Accuracy:\", accuracy)"
      ],
      "metadata": {
        "colab": {
          "base_uri": "https://localhost:8080/"
        },
        "id": "xWpWsSi4eA0f",
        "outputId": "5cc823a9-ad01-4820-f5da-7e58a3a6b2aa"
      },
      "execution_count": 10,
      "outputs": [
        {
          "output_type": "stream",
          "name": "stdout",
          "text": [
            "Output:  tensor([[0.9843, 0.0157, 0.0000]], grad_fn=<DivBackward0>)\n",
            "Categorical Cross-Entropy Loss: 4.168121337890625\n",
            "Accuracy: tensor([False, False,  True])\n"
          ]
        }
      ]
    },
    {
      "cell_type": "markdown",
      "source": [
        "### **Using Sigmoid for hidden layers**"
      ],
      "metadata": {
        "id": "DzMxCONpeSRv"
      }
    },
    {
      "cell_type": "code",
      "source": [
        "# hidden layers\n",
        "layer1 = DenseLayer(4, 18, activation_sigmoid)\n",
        "layer2 = DenseLayer(18, 18, activation_sigmoid)\n",
        "layer3 = DenseLayer(18, 18, activation_sigmoid)\n",
        "\n",
        "# output layer\n",
        "output_layer = DenseLayer(18, 3, activation_softmax)\n",
        "\n",
        "# Forward pass\n",
        "layer1.forward(input_data)\n",
        "layer2.forward(layer1.output)\n",
        "layer3.forward(layer2.output)\n",
        "output_layer.forward(layer3.output)\n",
        "\n",
        "# Output after performing forward pass\n",
        "print(\"Output: \",output_layer.output)\n",
        "\n",
        "# loss and accuracy\n",
        "loss = loss_function.forward(output_layer.output, target)\n",
        "accuracy = target == torch.argmax(output_layer.output, dim=1)\n",
        "\n",
        "\n",
        "print(\"Categorical Cross-Entropy Loss:\", loss.item())\n",
        "print(\"Accuracy:\", accuracy)"
      ],
      "metadata": {
        "colab": {
          "base_uri": "https://localhost:8080/"
        },
        "id": "IUcXrKZ8eVEd",
        "outputId": "24db9a1a-d9dc-405e-9ef1-12790f5610e8"
      },
      "execution_count": 11,
      "outputs": [
        {
          "output_type": "stream",
          "name": "stdout",
          "text": [
            "Output:  tensor([[0.7410, 0.1592, 0.0998]], grad_fn=<DivBackward0>)\n",
            "Categorical Cross-Entropy Loss: 2.1374545097351074\n",
            "Accuracy: tensor([False, False,  True])\n"
          ]
        }
      ]
    }
  ]
}